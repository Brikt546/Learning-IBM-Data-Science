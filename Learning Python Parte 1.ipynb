{
 "cells": [
  {
   "cell_type": "markdown",
   "id": "76fdc5c8-94d3-4921-a061-fe6267428767",
   "metadata": {},
   "source": [
    "# Data Science Tools and Ecosystem"
   ]
  },
  {
   "cell_type": "markdown",
   "id": "23180d4d-6db3-40b5-8e58-a53adab25491",
   "metadata": {},
   "source": [
    "In this notebook, Data Science Tools and Ecosystem are summarized"
   ]
  },
  {
   "cell_type": "markdown",
   "id": "650dcd2b-1787-41e2-9a8e-73a05ae03bcc",
   "metadata": {},
   "source": [
    "**Objectives** :\n",
    "- Data science tools\n",
    "- Simple arithmatic expression\n",
    "- Library used by Data Scientists\n",
    "  "
   ]
  },
  {
   "cell_type": "markdown",
   "id": "bd2256be-c0cd-4066-879c-dc8fb3a6e054",
   "metadata": {},
   "source": [
    "Some of the popular languages that Data Scientists use are\n",
    "- Phyton\n",
    "- R\n",
    "- VCS\n",
    "  "
   ]
  },
  {
   "cell_type": "markdown",
   "id": "17c9cc06-c945-49d8-a4fb-c904ec9af005",
   "metadata": {},
   "source": [
    "Some of the commonly used libraries used by Data Scientists include :\n",
    "1. dlpyr\n",
    "2. pandas\n",
    "3. ggplot2\n"
   ]
  },
  {
   "cell_type": "markdown",
   "id": "f5479406-ae80-4647-b473-60793917afa8",
   "metadata": {},
   "source": [
    "| Data Science Tools |\n",
    "|--------|\n",
    "|My SQL|\n",
    "|Hadoop|\n",
    "|Kibana|"
   ]
  },
  {
   "cell_type": "markdown",
   "id": "970b60f0-523e-4284-83d3-30a43d2412fd",
   "metadata": {},
   "source": [
    "### Below are a few examples of evaluating arithmetic expressions in Python"
   ]
  },
  {
   "cell_type": "code",
   "execution_count": 3,
   "id": "e8179bc7-20f7-46f4-b691-0108777d2637",
   "metadata": {},
   "outputs": [
    {
     "data": {
      "text/plain": [
       "17"
      ]
     },
     "execution_count": 3,
     "metadata": {},
     "output_type": "execute_result"
    }
   ],
   "source": [
    "## This is a simple arithmetic\n",
    "(3*4)+5"
   ]
  },
  {
   "cell_type": "code",
   "execution_count": 7,
   "id": "70b80b70-0ef9-41a2-b282-91500e0345f3",
   "metadata": {},
   "outputs": [
    {
     "name": "stdout",
     "output_type": "stream",
     "text": [
      "3.3333333333333335\n"
     ]
    }
   ],
   "source": [
    "## This will convert 200 Minutes\n",
    "Minutes = 200\n",
    "Hours = Minutes/60\n",
    "print(Hours)"
   ]
  },
  {
   "cell_type": "markdown",
   "id": "7eeac677-ad1d-41f1-9335-247f6c0eebcd",
   "metadata": {},
   "source": [
    "## Author\n",
    "Imperdoll\n"
   ]
  }
 ],
 "metadata": {
  "kernelspec": {
   "display_name": "Python 3 (ipykernel)",
   "language": "python",
   "name": "python3"
  },
  "language_info": {
   "codemirror_mode": {
    "name": "ipython",
    "version": 3
   },
   "file_extension": ".py",
   "mimetype": "text/x-python",
   "name": "python",
   "nbconvert_exporter": "python",
   "pygments_lexer": "ipython3",
   "version": "3.12.5"
  }
 },
 "nbformat": 4,
 "nbformat_minor": 5
}
